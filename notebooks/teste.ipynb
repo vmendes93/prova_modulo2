{
 "cells": [
  {
   "cell_type": "code",
   "execution_count": 11,
   "metadata": {},
   "outputs": [],
   "source": [
    "from datetime import date, time, datetime, timedelta\n",
    "\n",
    "class Empregado:\n",
    "    '''\n",
    "    Define a classe Empregado e seus métodos\n",
    "    '''\n",
    "    def __init__(self, nome, sobrenome, registro):\n",
    "        '''\n",
    "        Método de inicialização das propriedades da classe Empregado\n",
    "        '''\n",
    "        self.nome = nome\n",
    "        self.sobrenome = sobrenome\n",
    "        self.registro = str(registro)\n",
    "        self.horario_entrada = None\n",
    "        self.horario_saida = None\n",
    "        self.almoco_start = None\n",
    "        self.almoco_end = None\n",
    "        self.no_trabalho = False\n",
    "           \n",
    "    def __repr__(self):\n",
    "        '''\n",
    "        Método de representação da classe Empregado\n",
    "        '''\n",
    "        return \"Empregado:\\nNome:'{}', Sobrenome: '{}', N° de Registro:'{}'\".format(self.nome, self.sobrenome, self.registro)\n",
    "\n",
    "    def __str__(self):\n",
    "        '''\n",
    "        Método para a representação por strings da classe empregado\n",
    "        '''\n",
    "        return (\"{} - {} - {}\".format(self.nome, self.sobrenome, self.registro))\n",
    "        \n",
    "\n",
    "    def bate_ponto(self):\n",
    "\n",
    "        registro = int(input(\"Qual o resgitro que deseja fazer?\\n (1) Entrada\\n(2) Almoço (saída)\\n(3) Almoço (volta)\\n(4) Saída\"))\n",
    "\n",
    "        if registro == 1:\n",
    "            self.no_trabalho = True\n",
    "            self.horario_entrada = datetime.now()\n",
    "            print(f\"Bem-vindo {self.nome}!\")\n",
    "        elif registro == 2:\n",
    "            self.no_trabalho = False\n",
    "            self.almoco_start = datetime.now()\n",
    "            print(\"Bom almoço.\")\n",
    "        elif registro == 3:\n",
    "            self.no_trabalho = True\n",
    "            self.almoco_end = datetime.now()\n",
    "            duracao = self.almoco_end - self.almoco_start\n",
    "            if (duracao == timedelta(hours=1)):\n",
    "                print(\"Bem-vindo de volta.\")\n",
    "            elif (duracao < timedelta(hours=1)):\n",
    "                print(\"Fique atento aos seus horários.\\nO RH será notificado!\")\n",
    "            else:\n",
    "                print(\"Almoços longo, né? Será nosso segredo. ;)\")\n",
    "        elif registro == 4:\n",
    "            self.no_trabalho = False\n",
    "            self.horario_saida = datetime.now()\n",
    "            print(f\"Até amanhã, {self.nome}.\")\n",
    "        else:\n",
    "            print(\"Entrada inválida. tente novamente: \")\n",
    "\n"
   ]
  },
  {
   "cell_type": "code",
   "execution_count": 12,
   "metadata": {},
   "outputs": [],
   "source": [
    "vini = Empregado(\"Vinicius\", \"Mendes\", 118922)\n",
    "\n"
   ]
  },
  {
   "cell_type": "code",
   "execution_count": 13,
   "metadata": {},
   "outputs": [
    {
     "name": "stdout",
     "output_type": "stream",
     "text": [
      "Vinicius - Mendes - 118922\n"
     ]
    }
   ],
   "source": [
    "print(vini)"
   ]
  },
  {
   "cell_type": "code",
   "execution_count": 14,
   "metadata": {},
   "outputs": [
    {
     "data": {
      "text/plain": [
       "Empregado:\n",
       "Nome:'Vinicius', Sobrenome: 'Mendes', N° de Registro:'118922'"
      ]
     },
     "execution_count": 14,
     "metadata": {},
     "output_type": "execute_result"
    }
   ],
   "source": [
    "vini"
   ]
  },
  {
   "cell_type": "code",
   "execution_count": 15,
   "metadata": {},
   "outputs": [
    {
     "name": "stdout",
     "output_type": "stream",
     "text": [
      "Bem-vindo Vinicius!\n"
     ]
    }
   ],
   "source": [
    "vini.bate_ponto()"
   ]
  },
  {
   "cell_type": "code",
   "execution_count": 6,
   "metadata": {},
   "outputs": [
    {
     "name": "stdout",
     "output_type": "stream",
     "text": [
      "2021-11-21 22:22:27.618273\n",
      "True\n"
     ]
    }
   ],
   "source": [
    "print(vini.horario_entrada)\n",
    "print(vini.no_trabalho)"
   ]
  },
  {
   "cell_type": "code",
   "execution_count": 7,
   "metadata": {},
   "outputs": [
    {
     "name": "stdout",
     "output_type": "stream",
     "text": [
      "Bom almoço.\n",
      "2021-11-21 22:22:33.659206\n"
     ]
    }
   ],
   "source": [
    "vini.bate_ponto()\n",
    "print(vini.almoco_start)"
   ]
  },
  {
   "cell_type": "code",
   "execution_count": 9,
   "metadata": {},
   "outputs": [
    {
     "name": "stdout",
     "output_type": "stream",
     "text": [
      "Fique atento aos seus horários.\n",
      "O RH será notificado!\n",
      "2021-11-21 22:23:04.415434\n"
     ]
    }
   ],
   "source": [
    "# Eu sei que não tem como testar o outro caso (de voltar certo do almoço) a menos que se espere 1h na vida real, mas considerei um sucesso já que o inverso dele funcionou.\n",
    "# Fica ao critério do avaliador como será pontuado esta questão\n",
    "\n",
    "vini.bate_ponto()\n",
    "print(vini.almoco_end)"
   ]
  },
  {
   "cell_type": "code",
   "execution_count": 10,
   "metadata": {},
   "outputs": [
    {
     "name": "stdout",
     "output_type": "stream",
     "text": [
      "Até amanhã, Vinicius.\n",
      "2021-11-21 22:23:22.699428\n",
      "False\n"
     ]
    }
   ],
   "source": [
    "vini.bate_ponto()\n",
    "print(vini.horario_saida)\n",
    "print(vini.no_trabalho)"
   ]
  }
 ],
 "metadata": {
  "interpreter": {
   "hash": "916dbcbb3f70747c44a77c7bcd40155683ae19c65e1c03b4aa3499c5328201f1"
  },
  "kernelspec": {
   "display_name": "Python 3.9.5 64-bit",
   "language": "python",
   "name": "python3"
  },
  "language_info": {
   "codemirror_mode": {
    "name": "ipython",
    "version": 3
   },
   "file_extension": ".py",
   "mimetype": "text/x-python",
   "name": "python",
   "nbconvert_exporter": "python",
   "pygments_lexer": "ipython3",
   "version": "3.8.12"
  },
  "orig_nbformat": 4
 },
 "nbformat": 4,
 "nbformat_minor": 2
}
